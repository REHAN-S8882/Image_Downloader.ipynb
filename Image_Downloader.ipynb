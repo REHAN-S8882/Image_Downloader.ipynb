{
  "nbformat": 4,
  "nbformat_minor": 0,
  "metadata": {
    "colab": {
      "provenance": []
    },
    "kernelspec": {
      "name": "python3",
      "display_name": "Python 3"
    },
    "language_info": {
      "name": "python"
    }
  },
  "cells": [
    {
      "source": [
        "import os\n",
        "import re\n",
        "import requests\n",
        "\n",
        "\n",
        "def get_extension(image_url: str) -> str | None:\n",
        "    extensions: list[str] = ['.png', '.jpg', '.jpeg', '.gif', '.svg', '.webp', '.bmp']\n",
        "    for ext in extensions:\n",
        "        if ext in image_url:\n",
        "            return ext\n",
        "    return None\n",
        "\n",
        "\n",
        "def download_image(image_url: str, name: str, folder: str = None):\n",
        "    ext = get_extension(image_url)\n",
        "    if ext is None:\n",
        "        print('Warning: Image extension could not be located. Using default extension .jpg')\n",
        "        ext = '.jpg'\n",
        "\n",
        "    if folder:\n",
        "        image_name: str = f'{folder}/{name}{ext}'\n",
        "    else:\n",
        "        image_name: str = f'{name}{ext}'\n",
        "\n",
        "    # Sanitize the filename\n",
        "    image_name = re.sub(r'[\\\\/:*?\"<>|]', '_', image_name)\n",
        "\n",
        "    if os.path.isfile(image_name):\n",
        "        raise Exception('File name already exists...')\n",
        "\n",
        "    try:\n",
        "        image_content: bytes = requests.get(image_url).content\n",
        "        with open(image_name, 'wb') as handler:\n",
        "            handler.write(image_content)\n",
        "            print(f'Downloaded: \"{image_name}\" successfully!')\n",
        "    except Exception as e:\n",
        "        print(f'Error: {e}')\n",
        "\n",
        "\n",
        "if __name__ == '__main__':\n",
        "    # Create the images folder\n",
        "    os.makedirs('images', exist_ok=True)\n",
        "\n",
        "    input_url: str = input('Enter a url: ')\n",
        "    input_name: str = input('What would you like to name it?: ')\n",
        "    print('Downloading...')\n",
        "    download_image(input_url, name=input_name, folder='images')"
      ],
      "cell_type": "code",
      "metadata": {
        "id": "NDco-fqxtrFX",
        "colab": {
          "base_uri": "https://localhost:8080/"
        },
        "outputId": "d4e88f86-9d6a-4553-b347-e2e1393c83e2"
      },
      "execution_count": 9,
      "outputs": [
        {
          "output_type": "stream",
          "name": "stdout",
          "text": [
            "Enter a url: https://images.pexels.com/photos/120049/pexels-photo-120049.jpeg?auto=compress&cs=tinysrgb&w=600\n",
            "What would you like to name it?: car\n",
            "Downloading...\n",
            "Downloaded: \"images_car.jpeg\" successfully!\n"
          ]
        }
      ]
    }
  ]
}